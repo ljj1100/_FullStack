{
 "cells": [
  {
   "cell_type": "code",
   "execution_count": 86,
   "metadata": {},
   "outputs": [
    {
     "name": "stdout",
     "output_type": "stream",
     "text": [
      "- Director: Denis Villeneuve\n",
      "- Main Cast: Timothée Chalamet, Rebecca Ferguson, Oscar Isaac\n",
      "- Budget: Estimated around $165 million\n",
      "- Genre: Science Fiction, Adventure\n",
      "- Brief Synopsis: A young nobleman named Paul Atreides leads a rebellion to restore his family's control over the desert planet Arrakis, which is the only source of the most valuable substance in the universe.\""
     ]
    },
    {
     "data": {
      "text/plain": [
       "AIMessageChunk(content='- Director: Denis Villeneuve\\n- Main Cast: Timothée Chalamet, Rebecca Ferguson, Oscar Isaac\\n- Budget: Estimated around $165 million\\n- Genre: Science Fiction, Adventure\\n- Brief Synopsis: A young nobleman named Paul Atreides leads a rebellion to restore his family\\'s control over the desert planet Arrakis, which is the only source of the most valuable substance in the universe.\"')"
      ]
     },
     "execution_count": 86,
     "metadata": {},
     "output_type": "execute_result"
    }
   ],
   "source": [
    "from langchain.chat_models import ChatOpenAI\n",
    "from langchain.prompts.few_shot import FewShotPromptTemplate, FewShotChatMessagePromptTemplate\n",
    "from langchain.callbacks import StreamingStdOutCallbackHandler\n",
    "from langchain.prompts import ChatMessagePromptTemplate, ChatPromptTemplate\n",
    "from langchain.prompts.prompt import PromptTemplate\n",
    "from langchain.prompts.example_selector import LengthBasedExampleSelector\n",
    "from langchain.prompts.example_selector.base import BaseExampleSelector\n",
    "# Load Yaml and Save DB\n",
    "from langchain.prompts import load_prompt\n",
    "# from langchain.cache import InMemoryCache, SQLiteCache\n",
    "prompts = load_prompt(\"./prompt.yaml\")\n",
    "# set_llm_cache = (SQLiteCache(\"cache.db\"))\n",
    "######################################\n",
    "\n",
    "chat = ChatOpenAI(\n",
    "    temperature=0.1,\n",
    "    streaming=True,\n",
    "    callbacks=[\n",
    "        StreamingStdOutCallbackHandler(),\n",
    "    ],\n",
    ")\n",
    "\n",
    "\n",
    "d_test = prompts.dict()['example_prompt']['template'].split(\"\\n\")\n",
    "\n",
    "example_prompt = ChatPromptTemplate.from_messages(\n",
    "    [\n",
    "        (\"human\", d_test[0]),\n",
    "        (\"ai\", d_test[1])\n",
    "    ]\n",
    ")\n",
    "example_prompt = FewShotChatMessagePromptTemplate(\n",
    "    example_prompt=example_prompt,\n",
    "    examples= prompts.dict()['examples'],\n",
    ")\n",
    "\n",
    "final_prompt = ChatPromptTemplate.from_messages(\n",
    "    [\n",
    "        (\"system\", \"Since you are a movie buff, you give short answers.\"),\n",
    "        example_prompt,\n",
    "        (\"human\", prompts.dict()['suffix']),\n",
    "    ]\n",
    ")\n",
    "\n",
    "chain = final_prompt | chat\n",
    "\n",
    "chain.invoke({\"movie_name\" : \"Dune\"})\n",
    "\n",
    "\n"
   ]
  }
 ],
 "metadata": {
  "kernelspec": {
   "display_name": "env",
   "language": "python",
   "name": "python3"
  },
  "language_info": {
   "codemirror_mode": {
    "name": "ipython",
    "version": 3
   },
   "file_extension": ".py",
   "mimetype": "text/x-python",
   "name": "python",
   "nbconvert_exporter": "python",
   "pygments_lexer": "ipython3",
   "version": "3.11.6"
  }
 },
 "nbformat": 4,
 "nbformat_minor": 2
}
