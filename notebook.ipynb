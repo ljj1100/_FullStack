{
 "cells": [
  {
   "cell_type": "code",
   "execution_count": 3,
   "metadata": {},
   "outputs": [],
   "source": [
    "from langchain.chat_models import ChatOpenAI\n",
    "from langchain.prompts import ChatPromptTemplate\n",
    "from langchain.callbacks import StreamingStdOutCallbackHandler\n",
    "\n",
    "chat = ChatOpenAI(temperature = 0.1,\n",
    "                  streaming=True,\n",
    "                  callbacks=[\n",
    "                      StreamingStdOutCallbackHandler(),\n",
    "                  ]\n",
    "                  )\n",
    "# LangChain Expression Language (LCEL):\n",
    "\n",
    "poem_prompt = ChatPromptTemplate.from_messages([\n",
    "    (\"system\", \"You are Yun Dong-ju a famous poet in Korea. You create poem about program language.\"),\n",
    "    (\"human\", \"I want to make poem about {language}.\")\n",
    "])\n",
    "\n",
    "poem_chain = poem_prompt | chat"
   ]
  },
  {
   "cell_type": "code",
   "execution_count": 4,
   "metadata": {},
   "outputs": [
    {
     "name": "stdout",
     "output_type": "stream",
     "text": [
      "In the realm of code, where logic intertwines,\n",
      "There dances a language, bright and divine.\n",
      "JavaScripts, a symphony of commands,\n",
      "Weaving tales of websites and apps in our hands.\n",
      "\n",
      "With functions and loops, it paints a scene,\n",
      "Of dynamic pages, ever so keen.\n",
      "From variables to arrays, it sings its song,\n",
      "A melody of code, both elegant and strong.\n",
      "\n",
      "In the world of the web, it reigns supreme,\n",
      "A language of power, like a lucid dream.\n",
      "So let us embrace this language of might,\n",
      "And watch as our creations take flight.The poem you've written beautifully captures the essence of JavaScript and its significance in the world of coding and web development. It portrays JavaScript as a vibrant and powerful language that allows developers to create dynamic and engaging websites and applications.\n",
      "\n",
      "Let's analyze the poem using the six and a half principles to understand the emotions and thoughts you might have had while writing it:\n",
      "\n",
      "1. **Form**: The poem follows a consistent rhyme scheme and structure, with four stanzas each consisting of four lines. This structured form reflects a sense of order and organization, mirroring the logical nature of coding.\n",
      "\n",
      "2. **Imagery**: The poem uses vivid imagery to depict JavaScript as a \"symphony of commands\" and a \"melody of code.\" These metaphors evoke a sense of beauty and creativity in the world of programming.\n",
      "\n",
      "3. **Sound**: The use of alliteration in phrases like \"dynamic pages, ever so keen\" and \"melody of code, both elegant and strong\" adds a musical quality to the poem, enhancing its rhythmic flow and making it more engaging to read aloud.\n",
      "\n",
      "4. **Voice**: The tone of the poem is reverent and celebratory, praising JavaScript as a language of power and creativity. This voice conveys a deep appreciation for the capabilities and versatility of the programming language.\n",
      "\n",
      "5. **Diction**: The choice of words such as \"bright and divine,\" \"reigns supreme,\" and \"language of might\" conveys a sense of awe and admiration for JavaScript's capabilities. The language used elevates the status of JavaScript to that of a majestic and influential force in the digital realm.\n",
      "\n",
      "6. **Theme**: The overarching theme of the poem is the importance and impact of JavaScript in the world of web development. It celebrates the language as a tool that empowers creators to bring their ideas to life and showcases the beauty of coding as a creative endeavor.\n",
      "\n",
      "6.5. **Emotion**: While reading the poem, one can sense your admiration and passion for JavaScript as a language that enables endless possibilities in the digital landscape. The emotions of awe, inspiration, and pride seem to resonate through the verses, reflecting your deep connection to the world of coding and web development.\n",
      "\n",
      "Overall, your poem effectively communicates the beauty and significance of JavaScript in a way that is both eloquent and heartfelt, showcasing your reverence for the language and the art of programming."
     ]
    },
    {
     "data": {
      "text/plain": [
       "AIMessageChunk(content='The poem you\\'ve written beautifully captures the essence of JavaScript and its significance in the world of coding and web development. It portrays JavaScript as a vibrant and powerful language that allows developers to create dynamic and engaging websites and applications.\\n\\nLet\\'s analyze the poem using the six and a half principles to understand the emotions and thoughts you might have had while writing it:\\n\\n1. **Form**: The poem follows a consistent rhyme scheme and structure, with four stanzas each consisting of four lines. This structured form reflects a sense of order and organization, mirroring the logical nature of coding.\\n\\n2. **Imagery**: The poem uses vivid imagery to depict JavaScript as a \"symphony of commands\" and a \"melody of code.\" These metaphors evoke a sense of beauty and creativity in the world of programming.\\n\\n3. **Sound**: The use of alliteration in phrases like \"dynamic pages, ever so keen\" and \"melody of code, both elegant and strong\" adds a musical quality to the poem, enhancing its rhythmic flow and making it more engaging to read aloud.\\n\\n4. **Voice**: The tone of the poem is reverent and celebratory, praising JavaScript as a language of power and creativity. This voice conveys a deep appreciation for the capabilities and versatility of the programming language.\\n\\n5. **Diction**: The choice of words such as \"bright and divine,\" \"reigns supreme,\" and \"language of might\" conveys a sense of awe and admiration for JavaScript\\'s capabilities. The language used elevates the status of JavaScript to that of a majestic and influential force in the digital realm.\\n\\n6. **Theme**: The overarching theme of the poem is the importance and impact of JavaScript in the world of web development. It celebrates the language as a tool that empowers creators to bring their ideas to life and showcases the beauty of coding as a creative endeavor.\\n\\n6.5. **Emotion**: While reading the poem, one can sense your admiration and passion for JavaScript as a language that enables endless possibilities in the digital landscape. The emotions of awe, inspiration, and pride seem to resonate through the verses, reflecting your deep connection to the world of coding and web development.\\n\\nOverall, your poem effectively communicates the beauty and significance of JavaScript in a way that is both eloquent and heartfelt, showcasing your reverence for the language and the art of programming.')"
      ]
     },
     "execution_count": 4,
     "metadata": {},
     "output_type": "execute_result"
    }
   ],
   "source": [
    "get_poem_prompt = ChatPromptTemplate.from_messages([\n",
    "    (\"system\", \"You explain the poem in detail and explain with the six and a half principles what emotions and thoughts you had when you wrote it.\"),\n",
    "    (\"human\", \"{recieve}\")\n",
    "])\n",
    "\n",
    "get_chain = get_poem_prompt | chat\n",
    "\n",
    "final_chain = {\"recieve\" :poem_chain} | get_chain\n",
    "final_chain.invoke({\n",
    "    \"language\" : \"JavaScripts\"\n",
    "})"
   ]
  }
 ],
 "metadata": {
  "kernelspec": {
   "display_name": "env",
   "language": "python",
   "name": "python3"
  },
  "language_info": {
   "codemirror_mode": {
    "name": "ipython",
    "version": 3
   },
   "file_extension": ".py",
   "mimetype": "text/x-python",
   "name": "python",
   "nbconvert_exporter": "python",
   "pygments_lexer": "ipython3",
   "version": "3.11.6"
  }
 },
 "nbformat": 4,
 "nbformat_minor": 2
}
